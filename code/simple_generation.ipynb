{
 "cells": [
  {
   "cell_type": "code",
   "execution_count": 1,
   "metadata": {},
   "outputs": [
    {
     "name": "stdout",
     "output_type": "stream",
     "text": [
      "       price  promotion  inflation       sales\n",
      "0  10.012484      False   0.024967  199.875164\n",
      "1  10.009309      False   0.018617  199.906913\n",
      "2   8.007063       True   0.017658  285.908176\n",
      "3  10.008829      False   0.017659  199.911707\n",
      "4   8.014317       True   0.035792  285.813881\n"
     ]
    }
   ],
   "source": [
    "import numpy as np\n",
    "import pandas as pd\n",
    "\n",
    "np.random.seed(42)\n",
    "\n",
    "n = 100\n",
    "base_price = 10\n",
    "price_elasticity = -0.5\n",
    "promotion_effect_on_price = -0.2\n",
    "promotion_direct_effect = 0.3\n",
    "inflation_effect_on_price = 0.05\n",
    "baseline_sales = 200\n",
    "\n",
    "price_data = []\n",
    "promotion_data = []\n",
    "inflation_data = []\n",
    "sales_data = []\n",
    "\n",
    "for i in range(n):\n",
    "    inflation = np.random.normal(0.02, 0.01)\n",
    "    promotion = np.random.choice([True, False], p=[0.3, 0.7])\n",
    "    \n",
    "    price = base_price * (1 + inflation * inflation_effect_on_price)\n",
    "    if promotion:\n",
    "        price *= (1 + promotion_effect_on_price)\n",
    "    \n",
    "    sales = baseline_sales * (1 + price_elasticity * (price / base_price - 1))\n",
    "    if promotion:\n",
    "        sales *= (1 + promotion_direct_effect)\n",
    "    \n",
    "    price_data.append(price)\n",
    "    promotion_data.append(promotion)\n",
    "    inflation_data.append(inflation)\n",
    "    sales_data.append(sales)\n",
    "\n",
    "data = pd.DataFrame({\n",
    "    'price': price_data,\n",
    "    'promotion': promotion_data,\n",
    "    'inflation': inflation_data,\n",
    "    'sales': sales_data\n",
    "})\n",
    "\n",
    "print(data.head())\n"
   ]
  }
 ],
 "metadata": {
  "kernelspec": {
   "display_name": "Python 3",
   "language": "python",
   "name": "python3"
  },
  "language_info": {
   "codemirror_mode": {
    "name": "ipython",
    "version": 3
   },
   "file_extension": ".py",
   "mimetype": "text/x-python",
   "name": "python",
   "nbconvert_exporter": "python",
   "pygments_lexer": "ipython3",
   "version": "3.11.10"
  }
 },
 "nbformat": 4,
 "nbformat_minor": 2
}
